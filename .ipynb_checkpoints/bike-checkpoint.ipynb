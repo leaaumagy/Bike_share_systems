{
 "cells": [
  {
   "cell_type": "code",
   "execution_count": 36,
   "id": "adbb0d6d",
   "metadata": {},
   "outputs": [],
   "source": [
    "import time\n",
    "import numpy as np\n",
    "import pandas as pd\n",
    "import unittest\n"
   ]
  },
  {
   "cell_type": "code",
   "execution_count": 29,
   "id": "33535545",
   "metadata": {},
   "outputs": [
    {
     "name": "stdout",
     "output_type": "stream",
     "text": [
      "           Start Time            End Time    month day_of_week  hour\n",
      "0 2017-01-01 09:07:57 2017-01-01 09:20:53  January      Sunday     9\n",
      "1 2017-01-02 09:07:57 2017-01-02 09:20:53  January      Monday     9\n",
      "2 2017-01-03 00:07:57 2017-01-03 00:20:53  January     Tuesday     0\n",
      "----------------------------------------\n",
      "\n",
      "Calculating The Most Frequent Times of Travel...\n",
      "\n",
      "The most common month is: January\n",
      "The most common day of the week is: Monday\n",
      "The most common start hour is: 9\n",
      "----------------------------------------\n"
     ]
    }
   ],
   "source": [
    "data = {\n",
    "    'Start Time': ['2017-01-01 09:07:57', '2017-01-02 09:07:57', '2017-01-03 00:07:57'],\n",
    "    'End Time': ['2017-01-01 09:20:53', '2017-01-02 09:20:53', '2017-01-03 00:20:53'],\n",
    "}\n",
    "\n",
    "df = pd.DataFrame(data)\n",
    "\n",
    "# Convert Start Time to datetime\n",
    "df['Start Time'] = pd.to_datetime(df['Start Time'], errors='coerce')\n",
    "df['End Time'] = pd.to_datetime(df['End Time'], errors='coerce')\n",
    "\n",
    "# Extract month, day of week, and hour\n",
    "df['month'] = df['Start Time'].dt.strftime('%B')\n",
    "df['day_of_week'] = df['Start Time'].dt.day_name()\n",
    "df['hour'] = df['Start Time'].dt.hour.astype('Int64')\n",
    "\n",
    "print(df)\n",
    "print(\"-\" * 40)\n",
    "\n",
    "print(\"\\nCalculating The Most Frequent Times of Travel...\\n\")\n",
    "\n",
    "# Display the most common month\n",
    "most_common_month = df['month'].mode()[0]\n",
    "print(f\"The most common month is: {most_common_month}\")\n",
    "\n",
    "# Display the most common day of week\n",
    "most_common_day = df['day_of_week'].mode()[0]\n",
    "print(f\"The most common day of the week is: {most_common_day}\")\n",
    "\n",
    "# Display the most common start hour\n",
    "most_common_hour = df['hour'].mode()[0]\n",
    "print(f\"The most common start hour is: {most_common_hour}\")\n",
    "\n",
    "print(\"-\" * 40)"
   ]
  },
  {
   "cell_type": "code",
   "execution_count": 30,
   "id": "e586ee49",
   "metadata": {},
   "outputs": [
    {
     "name": "stdout",
     "output_type": "stream",
     "text": [
      "  Start Station End Station\n",
      "0     Station A   Station B\n",
      "1     Station B   Station C\n",
      "2     Station A   Station B\n",
      "----------------------------------------\n",
      "The most commonly used start station is: Station A\n",
      "The most commonly used end station is: Station B\n",
      "The most frequent combination of start station and end station trip is: Station A to Station B\n",
      "----------------------------------------\n"
     ]
    }
   ],
   "source": [
    "data = {\n",
    "    'Start Station': ['Station A', 'Station B', 'Station A'],\n",
    "    'End Station': ['Station B', 'Station C', 'Station B'],\n",
    "}\n",
    "df = pd.DataFrame(data)\n",
    "print(df)\n",
    "print(\"-\" * 40)\n",
    "\n",
    "# Display most commonly used start station\n",
    "most_common_start_station = df['Start Station'].mode()[0]\n",
    "print(f\"The most commonly used start station is: {most_common_start_station}\")\n",
    "\n",
    "# Display most commonly used end station\n",
    "most_common_end_station = df['End Station'].mode()[0]\n",
    "print(f\"The most commonly used end station is: {most_common_end_station}\")\n",
    "\n",
    "# Display most frequent combination of start station and end station trip\n",
    "most_common_trip = df.groupby(['Start Station', 'End Station']).size().idxmax()\n",
    "print(f\"The most frequent combination of start station and end station trip is: {most_common_trip[0]} to {most_common_trip[1]}\")\n",
    "\n",
    "print(\"-\" * 40)"
   ]
  },
  {
   "cell_type": "code",
   "execution_count": 31,
   "id": "74db472d",
   "metadata": {},
   "outputs": [
    {
     "name": "stdout",
     "output_type": "stream",
     "text": [
      "----------------------------------------\n",
      "Total travel time: 650 seconds\n",
      "Mean travel time: 216.67 seconds\n",
      "----------------------------------------\n"
     ]
    }
   ],
   "source": [
    "data = {\n",
    "    'Trip Duration': [300, 200, 150],\n",
    "}\n",
    "df = pd.DataFrame(data)\n",
    "print(\"-\" * 40)\n",
    "\n",
    "# Display total travel time\n",
    "total_travel_time = df['Trip Duration'].sum()\n",
    "print(f\"Total travel time: {total_travel_time} seconds\")\n",
    "\n",
    "# Display mean travel time\n",
    "mean_travel_time = round(df['Trip Duration'].mean(),2)\n",
    "print(f\"Mean travel time: {mean_travel_time} seconds\")\n",
    "\n",
    "print(\"-\" * 40)"
   ]
  },
  {
   "cell_type": "code",
   "execution_count": 32,
   "id": "f0583867",
   "metadata": {},
   "outputs": [
    {
     "name": "stdout",
     "output_type": "stream",
     "text": [
      "    User Type  Gender  Birth Year\n",
      "0  Subscriber    Male        1985\n",
      "1    Customer  Female        1992\n",
      "2  Subscriber    Male        1985\n",
      "----------------------------------------\n",
      "Counts of user types:\n",
      "Subscriber    2\n",
      "Customer      1\n",
      "Name: User Type, dtype: int64\n",
      "\n",
      "Counts of gender:\n",
      "Male      2\n",
      "Female    1\n",
      "Name: Gender, dtype: int64\n",
      "\n",
      "Earliest year of birth: 1985\n",
      "Most recent year of birth: 1992\n",
      "Most common year of birth: 1985\n",
      "----------------------------------------\n"
     ]
    }
   ],
   "source": [
    "data = {\n",
    "    'User Type': ['Subscriber', 'Customer', 'Subscriber'],\n",
    "    'Gender': ['Male', 'Female', 'Male'],\n",
    "    'Birth Year': [1985, 1992, 1985],\n",
    "}\n",
    "\n",
    "df = pd.DataFrame(data)\n",
    "\n",
    "print(df)\n",
    "print(\"-\" * 40)\n",
    "\n",
    "# Display counts of user types\n",
    "user_types = df['User Type'].value_counts()\n",
    "print(f\"Counts of user types:\\n{user_types}\")\n",
    "\n",
    "# Display counts of gender\n",
    "gender_counts = df['Gender'].value_counts()\n",
    "print(f\"\\nCounts of gender:\\n{gender_counts}\")\n",
    "\n",
    "# Display earliest, most recent, and most common year of birth\n",
    "earliest_year = int(df['Birth Year'].min())\n",
    "most_recent_year = int(df['Birth Year'].max())\n",
    "most_common_year = int(df['Birth Year'].mode()[0])\n",
    "print(f\"\\nEarliest year of birth: {earliest_year}\")\n",
    "print(f\"Most recent year of birth: {most_recent_year}\")\n",
    "print(f\"Most common year of birth: {most_common_year}\")\n",
    "\n",
    "print(\"-\" * 40)"
   ]
  },
  {
   "cell_type": "code",
   "execution_count": 35,
   "id": "cf6b7938",
   "metadata": {},
   "outputs": [
    {
     "name": "stdout",
     "output_type": "stream",
     "text": [
      "           Start Time            End Time    month day_of_week  hour\n",
      "0 2017-01-01 09:07:57 2017-01-01 09:20:53  January      Sunday     9\n",
      "1 2017-01-02 09:07:57                 NaT  January      Monday     9\n",
      "2                 NaT 2017-01-03 00:20:53      NaN         NaN  <NA>\n",
      "The most common month is: January\n",
      "The most common day of the week is: Monday\n",
      "The most common start hour is: 9\n"
     ]
    }
   ],
   "source": [
    "data = {\n",
    "    'Start Time': ['2017-01-01 09:07:57', '2017-01-02 09:07:57', None],\n",
    "    'End Time': ['2017-01-01 09:20:53', None, '2017-01-03 00:20:53'],\n",
    "}\n",
    "\n",
    "df = pd.DataFrame(data)\n",
    "\n",
    "# Convert Start Time to datetime\n",
    "df['Start Time'] = pd.to_datetime(df['Start Time'], errors='coerce')\n",
    "df['End Time'] = pd.to_datetime(df['End Time'], errors='coerce')\n",
    "\n",
    "# Extract month, day of week, and hour\n",
    "df['month'] = df['Start Time'].dt.strftime('%B')\n",
    "df['day_of_week'] = df['Start Time'].dt.day_name()\n",
    "df['hour'] = df['Start Time'].dt.hour.astype('Int64')\n",
    "\n",
    "print(df)\n",
    "\n",
    "# Display the most common month\n",
    "most_common_month = df['month'].mode()[0]\n",
    "print(f\"The most common month is: {most_common_month}\")\n",
    "\n",
    "# Display the most common day of week\n",
    "most_common_day = df['day_of_week'].mode()[0]\n",
    "print(f\"The most common day of the week is: {most_common_day}\")\n",
    "\n",
    "# Display the most common start hour\n",
    "most_common_hour = df['hour'].mode()[0]\n",
    "print(f\"The most common start hour is: {most_common_hour}\")\n"
   ]
  },
  {
   "cell_type": "code",
   "execution_count": 38,
   "id": "00f67101",
   "metadata": {},
   "outputs": [
    {
     "name": "stdout",
     "output_type": "stream",
     "text": [
      "The most commonly used start station is: Station A\n",
      "The most commonly used end station is: Station B\n",
      "The most frequent combination of start station and end station trip is: Station A to Station B\n"
     ]
    }
   ],
   "source": [
    "data = {\n",
    "            'Start Station': ['Station A', 'Station B', 'Station A'],\n",
    "            'End Station': ['Station B', None, 'Station B'],\n",
    "        }\n",
    "\n",
    "# Display most commonly used start station\n",
    "most_common_start_station = df['Start Station'].mode()[0]\n",
    "print(f\"The most commonly used start station is: {most_common_start_station}\")\n",
    "\n",
    "# Display most commonly used end station\n",
    "most_common_end_station = df['End Station'].mode()[0]\n",
    "print(f\"The most commonly used end station is: {most_common_end_station}\")\n",
    "\n",
    "# Display most frequent combination of start station and end station trip\n",
    "most_common_trip = df.groupby(['Start Station', 'End Station']).size().idxmax()\n",
    "print(f\"The most frequent combination of start station and end station trip is: {most_common_trip[0]} to {most_common_trip[1]}\")\n"
   ]
  },
  {
   "cell_type": "code",
   "execution_count": 40,
   "id": "b3465310",
   "metadata": {},
   "outputs": [],
   "source": [
    "df = pd.read_csv('chicago.csv')"
   ]
  },
  {
   "cell_type": "code",
   "execution_count": 44,
   "id": "bfc154b3",
   "metadata": {},
   "outputs": [
    {
     "name": "stdout",
     "output_type": "stream",
     "text": [
      "<class 'pandas.core.frame.DataFrame'>\n",
      "RangeIndex: 300000 entries, 0 to 299999\n",
      "Data columns (total 9 columns):\n",
      " #   Column         Non-Null Count   Dtype  \n",
      "---  ------         --------------   -----  \n",
      " 0   Unnamed: 0     300000 non-null  int64  \n",
      " 1   Start Time     300000 non-null  object \n",
      " 2   End Time       300000 non-null  object \n",
      " 3   Trip Duration  300000 non-null  int64  \n",
      " 4   Start Station  300000 non-null  object \n",
      " 5   End Station    300000 non-null  object \n",
      " 6   User Type      300000 non-null  object \n",
      " 7   Gender         238948 non-null  object \n",
      " 8   Birth Year     238981 non-null  float64\n",
      "dtypes: float64(1), int64(2), object(6)\n",
      "memory usage: 20.6+ MB\n"
     ]
    }
   ],
   "source": [
    "df.info()"
   ]
  },
  {
   "cell_type": "code",
   "execution_count": 46,
   "id": "bfbe2aff",
   "metadata": {},
   "outputs": [
    {
     "name": "stdout",
     "output_type": "stream",
     "text": [
      "Unnamed: 0           0\n",
      "Start Time           0\n",
      "End Time             0\n",
      "Trip Duration        0\n",
      "Start Station        0\n",
      "End Station          0\n",
      "User Type            0\n",
      "Gender           61052\n",
      "Birth Year       61019\n",
      "dtype: int64\n"
     ]
    }
   ],
   "source": [
    "# Compter les valeurs manquantes par colonne\n",
    "missing_count = df.isna().sum()\n",
    "print(missing_count)\n"
   ]
  },
  {
   "cell_type": "code",
   "execution_count": null,
   "id": "68b9950d",
   "metadata": {},
   "outputs": [],
   "source": []
  }
 ],
 "metadata": {
  "kernelspec": {
   "display_name": "Python 3 (ipykernel)",
   "language": "python",
   "name": "python3"
  },
  "language_info": {
   "codemirror_mode": {
    "name": "ipython",
    "version": 3
   },
   "file_extension": ".py",
   "mimetype": "text/x-python",
   "name": "python",
   "nbconvert_exporter": "python",
   "pygments_lexer": "ipython3",
   "version": "3.11.2"
  }
 },
 "nbformat": 4,
 "nbformat_minor": 5
}
